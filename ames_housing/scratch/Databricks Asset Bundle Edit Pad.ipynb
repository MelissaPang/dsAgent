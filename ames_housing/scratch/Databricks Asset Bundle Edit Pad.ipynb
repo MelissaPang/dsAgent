{
 "cells": [
  {
   "cell_type": "code",
   "execution_count": 0,
   "metadata": {
    "application/vnd.databricks.v1+cell": {
     "cellMetadata": {},
     "inputWidgets": {},
     "nuid": "23295ab8-aa8e-45e6-8abc-3b020a3444df",
     "showTitle": false,
     "tableResultSettingsMap": {},
     "title": ""
    }
   },
   "outputs": [],
   "source": []
  },
  {
   "cell_type": "code",
   "execution_count": 0,
   "metadata": {
    "application/vnd.databricks.v1+cell": {
     "cellMetadata": {},
     "inputWidgets": {},
     "nuid": "66a3069a-c818-44b7-a003-5b1d82eef396",
     "showTitle": false,
     "tableResultSettingsMap": {},
     "title": ""
    }
   },
   "outputs": [],
   "source": [
    "# Databricks Asset Bundle resource definition for a Unity Catalog registered model\n",
    "# See: https://docs.databricks.com/dev-tools/bundles/resources.html#registered_model-unity-catalog\n",
    "# This YAML should be placed in your bundle's resources directory (e.g., resources/model.yml)\n",
    "\n",
    "resources:\n",
    "  registered_models:\n",
    "    ames_housing_model:\n",
    "      name: ${var.model_name}  # Use a variable for model name for flexibility\n",
    "      catalog: ${var.catalog}  # Use a variable for catalog\n",
    "      schema: ${var.schema}    # Use a variable for schema\n",
    "      description: \"Ames Housing price prediction model registered in Unity Catalog.\"\n",
    "      tags:\n",
    "        project: ${var.project}\n",
    "        owner: ${var.owner}\n",
    "      permissions:\n",
    "        - principal: ${var.users}\n",
    "          privileges: [\"READ\", \"USE\"]\n",
    "        - principal: ${var.run_as_user}\n",
    "          privileges: [\"READ\", \"USE\", \"EDIT\", \"MANAGE\"]"
   ]
  }
 ],
 "metadata": {
  "application/vnd.databricks.v1+notebook": {
   "computePreferences": null,
   "dashboards": [],
   "environmentMetadata": {
    "base_environment": "",
    "environment_version": "3"
   },
   "inputWidgetPreferences": null,
   "language": "python",
   "notebookMetadata": {
    "pythonIndentUnit": 4
   },
   "notebookName": "Databricks Asset Bundle Edit Pad",
   "widgets": {}
  },
  "language_info": {
   "name": "python"
  }
 },
 "nbformat": 4,
 "nbformat_minor": 0
}
