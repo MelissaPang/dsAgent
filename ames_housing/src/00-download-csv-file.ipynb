{
 "cells": [
  {
   "cell_type": "markdown",
   "metadata": {
    "application/vnd.databricks.v1+cell": {
     "cellMetadata": {
      "byteLimit": 2048000,
      "rowLimit": 10000
     },
     "inputWidgets": {},
     "nuid": "e50847f3-22b9-48a4-9540-3623d30ca7a1",
     "showTitle": false,
     "tableResultSettingsMap": {},
     "title": ""
    }
   },
   "source": [
    "# Ames Housing Dataset Ingestion to Unity Catalog (AWS)\n",
    "\n",
    "This notebook demonstrates a best-practice workflow for copying the Ames Housing dataset from a local folder (`../fixtures/datasets/`) into Databricks on AWS, using Unity Catalog for secure, governed data management. You will learn how to copy the dataset files to a Unity Catalog volume and prepare them for analysis.\n",
    "\n",
    "## What is Unity Catalog?\n",
    "Unity Catalog is Databricks' unified governance solution for all data assets, providing fine-grained access control, auditing, and lineage across workspaces and clouds.\n",
    "\n",
    "## Prerequisites\n",
    "- You have a Databricks workspace on AWS with Unity Catalog enabled.\n",
    "- You have access to the target catalog, schema, and volume.\n",
    "- The Ames Housing dataset files are available in the `../fixtures/dataset/` directory relative to the notebook.\n",
    "\n",
    "## Workflow Steps\n",
    "1. Set up widgets for catalog, schema, and volume selection.\n",
    "2. Retrieve widget values and construct the volume path.\n",
    "3. List files in the local dataset directory.\n",
    "4. Display the files to be copied.\n",
    "5. Copy the dataset files to the specified Unity Catalog volume."
   ]
  },
  {
   "cell_type": "code",
   "execution_count": 0,
   "metadata": {
    "application/vnd.databricks.v1+cell": {
     "cellMetadata": {
      "byteLimit": 2048000,
      "rowLimit": 10000
     },
     "inputWidgets": {},
     "nuid": "6b354053-862c-4f68-a310-401c8141818f",
     "showTitle": false,
     "tableResultSettingsMap": {},
     "title": ""
    }
   },
   "outputs": [],
   "source": [
    "\"\"\"\n",
    "Step 1: Set up widgets for Unity Catalog location selection\n",
    "Widgets allow users to specify the catalog, schema, and volume path for storing the dataset.\n",
    "\"\"\"\n",
    "# Create widgets for catalog, schema, and volume path selection\n",
    "\n",
    "# Catalog selection (default: 'main')\n",
    "dbutils.widgets.text(\"catalog_use\", \"main\", \"Catalog\")\n",
    "\n",
    "# Schema selection (default: 'default')\n",
    "dbutils.widgets.text(\"schema_use\", \"default\", \"Schema\")\n",
    "\n",
    "# Volume path selection (default: '/Volumes/main/default/landing')\n",
    "dbutils.widgets.text(\n",
    "    \"volume_path_use\",\n",
    "    \"/Volumes/main/default/landing\",\n",
    "    \"Volume Path\"\n",
    ")"
   ]
  },
  {
   "cell_type": "code",
   "execution_count": 0,
   "metadata": {
    "application/vnd.databricks.v1+cell": {
     "cellMetadata": {
      "byteLimit": 2048000,
      "rowLimit": 10000
     },
     "inputWidgets": {},
     "nuid": "e5ff67fd-6e6b-4487-b94b-82dc17975013",
     "showTitle": false,
     "tableResultSettingsMap": {},
     "title": ""
    }
   },
   "outputs": [],
   "source": [
    "\"\"\"\n",
    "Step 2: Retrieve widget values for catalog, schema, and volume path\n",
    "\"\"\"\n",
    "# Retrieve the value selected by the user for the catalog\n",
    "catalog_use = dbutils.widgets.get(\"catalog_use\")\n",
    "# Retrieve the value selected by the user for the schema\n",
    "schema_use = dbutils.widgets.get(\"schema_use\")\n",
    "# Retrieve the value selected by the user for the volumes path\n",
    "volumes_path_use = dbutils.widgets.get(\"volume_path_use\")"
   ]
  },
  {
   "cell_type": "code",
   "execution_count": 0,
   "metadata": {
    "application/vnd.databricks.v1+cell": {
     "cellMetadata": {
      "byteLimit": 2048000,
      "rowLimit": 10000
     },
     "inputWidgets": {},
     "nuid": "19373832-a49f-409c-a529-7da48b037e11",
     "showTitle": false,
     "tableResultSettingsMap": {},
     "title": ""
    }
   },
   "outputs": [],
   "source": [
    "\"\"\"\n",
    "Step 3: Set source path and list files in the local dataset directory\n",
    "\"\"\"\n",
    "import os\n",
    "\n",
    "source_path = os.path.abspath(os.path.join('..', 'fixtures', 'datasets'))\n",
    "\n",
    "if not os.path.exists(source_path):\n",
    "    raise FileNotFoundError(f\"Source directory not found: {source_path}\")\n",
    "\n",
    "print(f\"Source dataset directory: {source_path}\")\n",
    "file_list = os.listdir(source_path)"
   ]
  },
  {
   "cell_type": "code",
   "execution_count": 0,
   "metadata": {
    "application/vnd.databricks.v1+cell": {
     "cellMetadata": {
      "byteLimit": 2048000,
      "rowLimit": 10000
     },
     "inputWidgets": {},
     "nuid": "b256b79b-eded-4e80-9909-7dd6825006de",
     "showTitle": false,
     "tableResultSettingsMap": {},
     "title": ""
    }
   },
   "outputs": [],
   "source": [
    "\"\"\"\n",
    "Step 4: List and display files found in the specified local dataset directory\n",
    "\"\"\"\n",
    "import os\n",
    "import pandas as pd\n",
    "\n",
    "# List files in the specified local dataset directory\n",
    "file_list = os.listdir(source_path)  # Get a list of all files in the source directory\n",
    "file_info = [\n",
    "    {\"file_name\": f, \"full_path\": os.path.join(source_path, f)}  # Create a dictionary with file name and full path\n",
    "    for f in file_list\n",
    "]\n",
    "\n",
    "# Display file information as a DataFrame for better visualization\n",
    "display(pd.DataFrame(file_info))"
   ]
  },
  {
   "cell_type": "code",
   "execution_count": 0,
   "metadata": {
    "application/vnd.databricks.v1+cell": {
     "cellMetadata": {},
     "inputWidgets": {},
     "nuid": "42d726ed-1fa0-4bcf-931a-c34d6b3ec909",
     "showTitle": false,
     "tableResultSettingsMap": {},
     "title": ""
    }
   },
   "outputs": [],
   "source": [
    "\"\"\"\n",
    "Step 5: Copy dataset files from source directory to Unity Catalog volume\n",
    "This process ensures that each file is securely copied to the specified volume path for governed storage.\n",
    "\"\"\"\n",
    "source_path = \"source_directory_path\"  # Define the source directory path\n",
    "for file in file_info:\n",
    "    local_path = f\"{source_path}/{file['file_name']}\"  # Construct the full local path\n",
    "    volume_path = f\"{volumes_path_use}/{file['file_name']}\"  # Construct the volume path\n",
    "    try:\n",
    "        dbutils.fs.cp(f\"file:{local_path}\", volume_path)  # Copy the file to the volume\n",
    "        print(f\"Successfully copied {local_path} to {volume_path}\")  # Success message\n",
    "    except Exception as e:\n",
    "        print(f\"Failed to copy {local_path} to {volume_path}. Error: {str(e)}\")  # Improved error handling"
   ]
  }
 ],
 "metadata": {
  "application/vnd.databricks.v1+notebook": {
   "computePreferences": {
    "hardware": {
     "accelerator": null,
     "gpuPoolId": null,
     "memory": null
    }
   },
   "dashboards": [],
   "environmentMetadata": {
    "base_environment": "",
    "environment_version": "4"
   },
   "inputWidgetPreferences": null,
   "language": "python",
   "notebookMetadata": {
    "pythonIndentUnit": 4
   },
   "notebookName": "00-download-csv-file",
   "widgets": {
    "catalog_use": {
     "currentValue": "main",
     "nuid": "5d2788a5-b1d2-4530-a2c8-8bfa2f75c612",
     "typedWidgetInfo": {
      "autoCreated": false,
      "defaultValue": "main",
      "label": "Catalog",
      "name": "catalog_use",
      "options": {
       "widgetDisplayType": "Text",
       "validationRegex": null
      },
      "parameterDataType": "String"
     },
     "widgetInfo": {
      "widgetType": "text",
      "defaultValue": "main",
      "label": "Catalog",
      "name": "catalog_use",
      "options": {
       "widgetType": "text",
       "autoCreated": null,
       "validationRegex": null
      }
     }
    },
    "schema_use": {
     "currentValue": "default",
     "nuid": "e311c787-84bf-40c4-a9d2-37fc4db051b8",
     "typedWidgetInfo": {
      "autoCreated": false,
      "defaultValue": "default",
      "label": "Schema",
      "name": "schema_use",
      "options": {
       "widgetDisplayType": "Text",
       "validationRegex": null
      },
      "parameterDataType": "String"
     },
     "widgetInfo": {
      "widgetType": "text",
      "defaultValue": "default",
      "label": "Schema",
      "name": "schema_use",
      "options": {
       "widgetType": "text",
       "autoCreated": null,
       "validationRegex": null
      }
     }
    },
    "volume_path_use": {
     "currentValue": "/Volumes/main/default/landing",
     "nuid": "ad777bcf-97ea-4240-8fcc-8617d564113c",
     "typedWidgetInfo": {
      "autoCreated": false,
      "defaultValue": "/Volumes/main/default/landing",
      "label": "Volume Path",
      "name": "volume_path_use",
      "options": {
       "widgetDisplayType": "Text",
       "validationRegex": null
      },
      "parameterDataType": "String"
     },
     "widgetInfo": {
      "widgetType": "text",
      "defaultValue": "/Volumes/main/default/landing",
      "label": "Volume Path",
      "name": "volume_path_use",
      "options": {
       "widgetType": "text",
       "autoCreated": null,
       "validationRegex": null
      }
     }
    }
   }
  },
  "language_info": {
   "name": "python"
  }
 },
 "nbformat": 4,
 "nbformat_minor": 0
}
