{
 "cells": [
  {
   "cell_type": "markdown",
   "metadata": {
    "application/vnd.databricks.v1+cell": {
     "cellMetadata": {},
     "inputWidgets": {},
     "nuid": "e50847f3-22b9-48a4-9540-3623d30ca7a1",
     "showTitle": false,
     "tableResultSettingsMap": {},
     "title": ""
    }
   },
   "source": [
    "# Ames Housing Dataset Ingestion Notebook\n",
    "\n",
    "This notebook demonstrates how to download the Ames Housing dataset from Kaggle, copy it to a Unity Catalog volume in Databricks (AWS), and prepare it for further analysis. The workflow includes setting up widgets for catalog/schema/volume selection, downloading the dataset, and copying it to the desired location.\n",
    "\n",
    "**Workflow Steps:**\n",
    "1. Set up widgets for catalog, schema, and volume selection.\n",
    "2. Retrieve widget values and construct the volume path.\n",
    "3. Download the dataset using `kagglehub`.\n",
    "4. Copy the dataset files to the specified Unity Catalog volume.\n"
   ]
  },
  {
   "cell_type": "code",
   "execution_count": 0,
   "metadata": {
    "application/vnd.databricks.v1+cell": {
     "cellMetadata": {
      "byteLimit": 2048000,
      "rowLimit": 10000
     },
     "inputWidgets": {},
     "nuid": "6b354053-862c-4f68-a310-401c8141818f",
     "showTitle": false,
     "tableResultSettingsMap": {},
     "title": ""
    }
   },
   "outputs": [],
   "source": [
    "# Step 1: Set up widgets to specify the target Unity Catalog location for your data\n",
    "# These widgets let you select the catalog, schema, and volume path where the dataset will be stored\n",
    "\n",
    "dbutils.widgets.text(\"catalog_use\", \"main\", \"Catalog\")\n",
    "dbutils.widgets.text(\"schema_use\", \"default\", \"Schema\")\n",
    "dbutils.widgets.text(\"volumes_path_use\", \"/Volumes/main/default/landing\", \"Volume Path\")"
   ]
  },
  {
   "cell_type": "code",
   "execution_count": 0,
   "metadata": {
    "application/vnd.databricks.v1+cell": {
     "cellMetadata": {
      "byteLimit": 2048000,
      "rowLimit": 10000
     },
     "inputWidgets": {},
     "nuid": "e5ff67fd-6e6b-4487-b94b-82dc17975013",
     "showTitle": false,
     "tableResultSettingsMap": {},
     "title": ""
    }
   },
   "outputs": [],
   "source": [
    "# Step 2: Retrieve the values entered in the widgets above\n",
    "catalog_use = dbutils.widgets.get(\"catalog_use\")  # Retrieve catalog_use widget value\n",
    "schema_use = dbutils.widgets.get(\"schema_use\")    # Retrieve schema_use widget value\n",
    "volumes_path_use = dbutils.widgets.get(\"volumes_path_use\")  # Retrieve volumes_path_use widget value"
   ]
  },
  {
   "cell_type": "code",
   "execution_count": 0,
   "metadata": {
    "application/vnd.databricks.v1+cell": {
     "cellMetadata": {
      "byteLimit": 2048000,
      "rowLimit": 10000
     },
     "inputWidgets": {},
     "nuid": "80063b42-be85-4eaf-94c8-d85ce10fe0de",
     "showTitle": false,
     "tableResultSettingsMap": {},
     "title": ""
    }
   },
   "outputs": [],
   "source": [
    "# Step 3: Import the required library for downloading datasets from Kaggle\n",
    "import kagglehub"
   ]
  },
  {
   "cell_type": "code",
   "execution_count": 0,
   "metadata": {
    "application/vnd.databricks.v1+cell": {
     "cellMetadata": {
      "byteLimit": 2048000,
      "rowLimit": 10000
     },
     "inputWidgets": {},
     "nuid": "f10d54d3-5ba7-49ec-840a-799503fd3b1c",
     "showTitle": false,
     "tableResultSettingsMap": {},
     "title": ""
    }
   },
   "outputs": [],
   "source": [
    "help(kagglehub.dataset_download)"
   ]
  },
  {
   "cell_type": "code",
   "execution_count": 0,
   "metadata": {
    "application/vnd.databricks.v1+cell": {
     "cellMetadata": {
      "byteLimit": 2048000,
      "rowLimit": 10000
     },
     "inputWidgets": {},
     "nuid": "19373832-a49f-409c-a529-7da48b037e11",
     "showTitle": false,
     "tableResultSettingsMap": {},
     "title": ""
    }
   },
   "outputs": [],
   "source": [
    "# Step 4: Download the latest version of the Ames Housing dataset from Kaggle\n",
    "# The dataset will be downloaded to a local path on the driver (not directly to Unity Catalog volume)\n",
    "path = kagglehub.dataset_download(\"shashanknecrothapa/ames-housing-dataset\", path=volumes_path_use)\n",
    "\n",
    "print(\"Path to dataset files:\", path)"
   ]
  }
 ],
 "metadata": {
  "application/vnd.databricks.v1+notebook": {
   "computePreferences": {
    "hardware": {
     "accelerator": null,
     "gpuPoolId": null,
     "memory": null
    }
   },
   "dashboards": [],
   "environmentMetadata": {
    "base_environment": "",
    "dependencies": [
     "kagglehub"
    ],
    "environment_version": "4"
   },
   "inputWidgetPreferences": null,
   "language": "python",
   "notebookMetadata": {
    "pythonIndentUnit": 4
   },
   "notebookName": "00-download-csv-file",
   "widgets": {
    "catalog_use": {
     "currentValue": "main",
     "nuid": "5d2788a5-b1d2-4530-a2c8-8bfa2f75c612",
     "typedWidgetInfo": {
      "autoCreated": false,
      "defaultValue": "main",
      "label": "Catalog",
      "name": "catalog_use",
      "options": {
       "widgetDisplayType": "Text",
       "validationRegex": null
      },
      "parameterDataType": "String"
     },
     "widgetInfo": {
      "widgetType": "text",
      "defaultValue": "main",
      "label": "Catalog",
      "name": "catalog_use",
      "options": {
       "widgetType": "text",
       "autoCreated": null,
       "validationRegex": null
      }
     }
    },
    "schema_use": {
     "currentValue": "default",
     "nuid": "e311c787-84bf-40c4-a9d2-37fc4db051b8",
     "typedWidgetInfo": {
      "autoCreated": false,
      "defaultValue": "default",
      "label": "Schema",
      "name": "schema_use",
      "options": {
       "widgetDisplayType": "Text",
       "validationRegex": null
      },
      "parameterDataType": "String"
     },
     "widgetInfo": {
      "widgetType": "text",
      "defaultValue": "default",
      "label": "Schema",
      "name": "schema_use",
      "options": {
       "widgetType": "text",
       "autoCreated": null,
       "validationRegex": null
      }
     }
    },
    "volumes_path_use": {
     "currentValue": "/Volumes/main/default/landing",
     "nuid": "3e1e7ecc-13e1-450c-8880-8e761c294664",
     "typedWidgetInfo": {
      "autoCreated": false,
      "defaultValue": "/Volumes/main/default/landing",
      "label": "Volume Path",
      "name": "volumes_path_use",
      "options": {
       "widgetDisplayType": "Text",
       "validationRegex": null
      },
      "parameterDataType": "String"
     },
     "widgetInfo": {
      "widgetType": "text",
      "defaultValue": "/Volumes/main/default/landing",
      "label": "Volume Path",
      "name": "volumes_path_use",
      "options": {
       "widgetType": "text",
       "autoCreated": false,
       "validationRegex": null
      }
     }
    }
   }
  },
  "language_info": {
   "name": "python"
  }
 },
 "nbformat": 4,
 "nbformat_minor": 0
}
