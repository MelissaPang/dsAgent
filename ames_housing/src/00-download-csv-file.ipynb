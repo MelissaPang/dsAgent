{
 "cells": [
  {
   "cell_type": "markdown",
   "metadata": {
    "application/vnd.databricks.v1+cell": {
     "cellMetadata": {},
     "inputWidgets": {},
     "nuid": "e50847f3-22b9-48a4-9540-3623d30ca7a1",
     "showTitle": false,
     "tableResultSettingsMap": {},
     "title": ""
    }
   },
   "source": [
    "# Ames Housing Dataset Ingestion Notebook\n",
    "\n",
    "This notebook demonstrates how to download the Ames Housing dataset from Kaggle, copy it to a Unity Catalog volume in Databricks (AWS), and prepare it for further analysis. The workflow includes setting up widgets for catalog/schema/volume selection, downloading the dataset, and copying it to the desired location.\n",
    "\n",
    "**Workflow Steps:**\n",
    "1. Set up widgets for catalog, schema, and volume selection.\n",
    "2. Retrieve widget values and construct the volume path.\n",
    "3. Download the dataset using `kagglehub`.\n",
    "4. Copy the dataset files to the specified Unity Catalog volume.\n"
   ]
  },
  {
   "cell_type": "code",
   "execution_count": 0,
   "metadata": {
    "application/vnd.databricks.v1+cell": {
     "cellMetadata": {
      "byteLimit": 2048000,
      "rowLimit": 10000
     },
     "inputWidgets": {},
     "nuid": "6b354053-862c-4f68-a310-401c8141818f",
     "showTitle": false,
     "tableResultSettingsMap": {},
     "title": ""
    }
   },
   "outputs": [],
   "source": [
    "# Step 1: Set up widgets for catalog, schema, and volume selection\n",
    "# These widgets allow you to easily change the target Unity Catalog location for your data\n",
    "\n",
    "dbutils.widgets.text(\"catalog_use\", \"main\", \"Catalog\")\n",
    "dbutils.widgets.text(\"schema_use\", \"default\", \"Schema\")\n",
    "dbutils.widgets.text(\"volumes_use\", \"landing\", \"Volume\")"
   ]
  },
  {
   "cell_type": "code",
   "execution_count": 0,
   "metadata": {
    "application/vnd.databricks.v1+cell": {
     "cellMetadata": {
      "byteLimit": 2048000,
      "rowLimit": 10000
     },
     "inputWidgets": {},
     "nuid": "e5ff67fd-6e6b-4487-b94b-82dc17975013",
     "showTitle": false,
     "tableResultSettingsMap": {},
     "title": ""
    }
   },
   "outputs": [],
   "source": [
    "# Step 2: Retrieve widget values\n",
    "catalog_use = dbutils.widgets.get(\"catalog_use\")  # Retrieve the value of the catalog_use widget\n",
    "schema_use = dbutils.widgets.get(\"schema_use\")    # Retrieve the value of the schema_use widget\n",
    "volumes_use = dbutils.widgets.get(\"volumes_use\")  # Retrieve the value of the volumes_use widget"
   ]
  },
  {
   "cell_type": "code",
   "execution_count": 0,
   "metadata": {
    "application/vnd.databricks.v1+cell": {
     "cellMetadata": {
      "byteLimit": 2048000,
      "rowLimit": 10000
     },
     "inputWidgets": {},
     "nuid": "7230612e-c811-4d7d-a2ce-d42be3cbe754",
     "showTitle": false,
     "tableResultSettingsMap": {},
     "title": ""
    }
   },
   "outputs": [],
   "source": [
    "# Step 3: Construct the path to the target Unity Catalog volume\n",
    "volume_path = f\"/Volumes/{catalog_use}/{schema_use}/{volumes_use}/\""
   ]
  },
  {
   "cell_type": "code",
   "execution_count": 0,
   "metadata": {
    "application/vnd.databricks.v1+cell": {
     "cellMetadata": {
      "byteLimit": 2048000,
      "rowLimit": 10000
     },
     "inputWidgets": {},
     "nuid": "80063b42-be85-4eaf-94c8-d85ce10fe0de",
     "showTitle": false,
     "tableResultSettingsMap": {},
     "title": ""
    }
   },
   "outputs": [],
   "source": [
    "# Step 4: Import required libraries\n",
    "import kagglehub"
   ]
  },
  {
   "cell_type": "code",
   "execution_count": 0,
   "metadata": {
    "application/vnd.databricks.v1+cell": {
     "cellMetadata": {
      "byteLimit": 2048000,
      "rowLimit": 10000
     },
     "inputWidgets": {},
     "nuid": "19373832-a49f-409c-a529-7da48b037e11",
     "showTitle": false,
     "tableResultSettingsMap": {},
     "title": ""
    }
   },
   "outputs": [],
   "source": [
    "# Step 5: Download the latest version of the Ames Housing dataset from Kaggle\n",
    "# The dataset will be downloaded to a local path on the driver\n",
    "path = kagglehub.dataset_download(\"shashanknecrothapa/ames-housing-dataset\")\n",
    "\n",
    "print(\"Path to dataset files:\", path)"
   ]
  },
  {
   "cell_type": "code",
   "execution_count": 0,
   "metadata": {
    "application/vnd.databricks.v1+cell": {
     "cellMetadata": {},
     "inputWidgets": {},
     "nuid": "5740b682-2826-4f42-b4f9-c9e7c18bfbfd",
     "showTitle": false,
     "tableResultSettingsMap": {},
     "title": ""
    }
   },
   "outputs": [],
   "source": [
    "# Step 6: Copy the downloaded dataset files to the Unity Catalog volume\n",
    "# This makes the data available for distributed processing in Databricks\n",
    "try:\n",
    "    dbutils.fs.cp(f\"file:{path}\", volume_path, recurse=True)\n",
    "    print(f\"Dataset files successfully copied to {volume_path}\")\n",
    "except Exception as e:\n",
    "    print(f\"Error copying files: {e}\")"
   ]
  }
 ],
 "metadata": {
  "application/vnd.databricks.v1+notebook": {
   "computePreferences": {
    "hardware": {
     "accelerator": null,
     "gpuPoolId": null,
     "memory": null
    }
   },
   "dashboards": [],
   "environmentMetadata": {
    "base_environment": "",
    "dependencies": [
     "kagglehub"
    ],
    "environment_version": "4"
   },
   "inputWidgetPreferences": null,
   "language": "python",
   "notebookMetadata": {
    "pythonIndentUnit": 4
   },
   "notebookName": "00-download-csv-file",
   "widgets": {
    "catalog_use": {
     "currentValue": "main",
     "nuid": "5d2788a5-b1d2-4530-a2c8-8bfa2f75c612",
     "typedWidgetInfo": {
      "autoCreated": false,
      "defaultValue": "main",
      "label": null,
      "name": "catalog_use",
      "options": {
       "widgetDisplayType": "Text",
       "validationRegex": null
      },
      "parameterDataType": "String"
     },
     "widgetInfo": {
      "widgetType": "text",
      "defaultValue": "main",
      "label": null,
      "name": "catalog_use",
      "options": {
       "widgetType": "text",
       "autoCreated": null,
       "validationRegex": null
      }
     }
    },
    "schema_use": {
     "currentValue": "default",
     "nuid": "e311c787-84bf-40c4-a9d2-37fc4db051b8",
     "typedWidgetInfo": {
      "autoCreated": false,
      "defaultValue": "default",
      "label": null,
      "name": "schema_use",
      "options": {
       "widgetDisplayType": "Text",
       "validationRegex": null
      },
      "parameterDataType": "String"
     },
     "widgetInfo": {
      "widgetType": "text",
      "defaultValue": "default",
      "label": null,
      "name": "schema_use",
      "options": {
       "widgetType": "text",
       "autoCreated": null,
       "validationRegex": null
      }
     }
    },
    "volumes_use": {
     "currentValue": "landing",
     "nuid": "96756509-4e83-49ba-8741-7b3b92aa5611",
     "typedWidgetInfo": {
      "autoCreated": false,
      "defaultValue": "landing",
      "label": null,
      "name": "volumes_use",
      "options": {
       "widgetDisplayType": "Text",
       "validationRegex": null
      },
      "parameterDataType": "String"
     },
     "widgetInfo": {
      "widgetType": "text",
      "defaultValue": "landing",
      "label": null,
      "name": "volumes_use",
      "options": {
       "widgetType": "text",
       "autoCreated": null,
       "validationRegex": null
      }
     }
    }
   }
  },
  "language_info": {
   "name": "python"
  }
 },
 "nbformat": 4,
 "nbformat_minor": 0
}
