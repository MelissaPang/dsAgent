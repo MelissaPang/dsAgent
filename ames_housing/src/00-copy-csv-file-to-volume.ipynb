{
 "cells": [
  {
   "cell_type": "markdown",
   "metadata": {
    "application/vnd.databricks.v1+cell": {
     "cellMetadata": {
      "byteLimit": 2048000,
      "rowLimit": 10000
     },
     "inputWidgets": {},
     "nuid": "e50847f3-22b9-48a4-9540-3623d30ca7a1",
     "showTitle": false,
     "tableResultSettingsMap": {},
     "title": ""
    }
   },
   "source": [
    "# Ames Housing Dataset Ingestion to Unity Catalog (AWS)\n",
    "\n",
    "This notebook demonstrates a best-practice workflow for copying the Ames Housing dataset from a local folder (`../fixtures/datasets/`) into Databricks on AWS, using Unity Catalog for secure, governed data management. You will learn how to copy the dataset files to a Unity Catalog volume and prepare them for analysis.\n",
    "\n",
    "## What is Unity Catalog?\n",
    "Unity Catalog is Databricks' unified governance solution for all data assets, providing fine-grained access control, auditing, and lineage across workspaces and clouds.\n",
    "\n",
    "## Prerequisites\n",
    "- You have a Databricks workspace on AWS with Unity Catalog enabled.\n",
    "- You have access to the target catalog, schema, and volume.\n",
    "- The Ames Housing dataset files are available in the `../fixtures/datasets/` directory relative to the notebook.\n",
    "\n",
    "## Workflow Steps\n",
    "1. Set up widgets for selecting the catalog, schema, and volume.\n",
    "2. Retrieve the values from the widgets and construct the volume path.\n",
    "3. List the files in the local dataset directory (`../fixtures/datasets/`).\n",
    "4. Display the files that will be copied to the Unity Catalog volume.\n",
    "5. Copy the dataset files to the specified Unity Catalog volume."
   ]
  },
  {
   "cell_type": "code",
   "execution_count": 0,
   "metadata": {
    "application/vnd.databricks.v1+cell": {
     "cellMetadata": {
      "byteLimit": 2048000,
      "rowLimit": 10000
     },
     "inputWidgets": {},
     "nuid": "6b354053-862c-4f68-a310-401c8141818f",
     "showTitle": false,
     "tableResultSettingsMap": {},
     "title": ""
    }
   },
   "outputs": [],
   "source": [
    "\"\"\"\n",
    "Step 1: Set up widgets for Unity Catalog location selection\n",
    "These widgets allow users to specify the catalog, schema, and volume path for storing the dataset.\n",
    "\"\"\"\n",
    "# Create widgets for selecting the catalog, schema, and volume path\n",
    "\n",
    "# Catalog selection (default: 'main')\n",
    "dbutils.widgets.text(\"catalog_use\", \"main\", \"Catalog\")\n",
    "\n",
    "# Schema selection (default: 'default')\n",
    "dbutils.widgets.text(\"schema_use\", \"default\", \"Schema\")\n",
    "\n",
    "# Volume path selection (default: '/Volumes/main/default/landing')\n",
    "dbutils.widgets.text(\n",
    "    \"volume_path_use\",\n",
    "    \"/Volumes/main/default/landing\",\n",
    "    \"Volume Path\"\n",
    ")"
   ]
  },
  {
   "cell_type": "code",
   "execution_count": 0,
   "metadata": {
    "application/vnd.databricks.v1+cell": {
     "cellMetadata": {
      "byteLimit": 2048000,
      "rowLimit": 10000
     },
     "inputWidgets": {},
     "nuid": "e5ff67fd-6e6b-4487-b94b-82dc17975013",
     "showTitle": false,
     "tableResultSettingsMap": {},
     "title": ""
    }
   },
   "outputs": [],
   "source": [
    "\"\"\"\n",
    "Step 2: Retrieve widget values for catalog, schema, and volume path.\n",
    "This section gets the user selections from the widgets defined above.\n",
    "\"\"\"\n",
    "# Retrieve the value selected by the user for the catalog\n",
    "catalog_use = dbutils.widgets.get(\"catalog_use\")  # Catalog selection\n",
    "# Retrieve the value selected by the user for the schema\n",
    "schema_use = dbutils.widgets.get(\"schema_use\")    # Schema selection\n",
    "# Retrieve the value selected by the user for the volume path\n",
    "volumes_path_use = dbutils.widgets.get(\"volume_path_use\")  # Volume path selection"
   ]
  },
  {
   "cell_type": "code",
   "execution_count": 0,
   "metadata": {
    "application/vnd.databricks.v1+cell": {
     "cellMetadata": {
      "byteLimit": 2048000,
      "rowLimit": 10000
     },
     "inputWidgets": {},
     "nuid": "19373832-a49f-409c-a529-7da48b037e11",
     "showTitle": false,
     "tableResultSettingsMap": {},
     "title": ""
    }
   },
   "outputs": [],
   "source": [
    "\"\"\"\n",
    "Step 3: Set source path and list files in the local dataset directory.\n",
    "This step checks for the existence of the source directory and lists all files in it.\n",
    "The directory name should match the documentation and other cells.\n",
    "\"\"\"\n",
    "import os\n",
    "\n",
    "source_path = os.path.abspath(os.path.join('..', 'fixtures', 'datasets'))\n",
    "\n",
    "if not os.path.exists(source_path):\n",
    "    raise FileNotFoundError(f\"Source directory not found: {source_path}\")\n",
    "\n",
    "print(f\"Source dataset directory: {source_path}\")\n",
    "file_list = os.listdir(source_path)"
   ]
  },
  {
   "cell_type": "code",
   "execution_count": 0,
   "metadata": {
    "application/vnd.databricks.v1+cell": {
     "cellMetadata": {
      "byteLimit": 2048000,
      "rowLimit": 10000
     },
     "inputWidgets": {},
     "nuid": "b256b79b-eded-4e80-9909-7dd6825006de",
     "showTitle": false,
     "tableResultSettingsMap": {},
     "title": ""
    }
   },
   "outputs": [],
   "source": [
    "\"\"\"\n",
    "Step 4: List and display files found in the specified local dataset directory.\n",
    "This step creates a DataFrame with file names and their corresponding full paths for better visualization.\n",
    "\"\"\"\n",
    "import os\n",
    "import pandas as pd\n",
    "\n",
    "# List files in the specified local dataset directory\n",
    "file_list = os.listdir(source_path)  # Get a list of all files in the source directory\n",
    "\n",
    "# Create a list of dictionaries containing file names and their full paths\n",
    "file_info = [\n",
    "    {\"file_name\": file_name, \"full_path\": os.path.join(source_path, file_name)}  # Create a dictionary for each file\n",
    "    for file_name in file_list\n",
    "]\n",
    "\n",
    "# Display the file information as a DataFrame for improved visualization\n",
    "display(pd.DataFrame(file_info))"
   ]
  },
  {
   "cell_type": "code",
   "execution_count": 0,
   "metadata": {
    "application/vnd.databricks.v1+cell": {
     "cellMetadata": {
      "byteLimit": 2048000,
      "rowLimit": 10000
     },
     "inputWidgets": {},
     "nuid": "42d726ed-1fa0-4bcf-931a-c34d6b3ec909",
     "showTitle": false,
     "tableResultSettingsMap": {},
     "title": ""
    }
   },
   "outputs": [],
   "source": [
    "\"\"\"\n",
    "Step 5: Move dataset files from the local source directory to the Unity Catalog volume.\n",
    "This process ensures that each file is securely moved to the specified volume path for governed storage.\n",
    "Uses shutil.move() to move files from the local filesystem to the Unity Catalog volume via the Databricks file system mount.\n",
    "\"\"\"\n",
    "import shutil\n",
    "\n",
    "# Iterate over each file in the file_info list to move it to the Unity Catalog volume\n",
    "for file in file_info:\n",
    "    local_path = file[\"full_path\"]  # Full local path to the file\n",
    "    volume_path = f\"{volumes_path_use}/{file['file_name']}\"  # Destination path in DBFS for Unity Catalog volume\n",
    "    try:\n",
    "        shutil.move(local_path, volume_path)  # Move the file to the volume\n",
    "        print(f\"Successfully moved {local_path} to {volume_path}\")  # Print success message upon successful move\n",
    "    except Exception as e:\n",
    "        # Print error message if the move operation fails, including the error details\n",
    "        print(f\"Failed to move {local_path} to {volume_path}. Error: {str(e)}\")  # Error handling"
   ]
  }
 ],
 "metadata": {
  "application/vnd.databricks.v1+notebook": {
   "computePreferences": {
    "hardware": {
     "accelerator": null,
     "gpuPoolId": null,
     "memory": null
    }
   },
   "dashboards": [],
   "environmentMetadata": {
    "base_environment": "",
    "environment_version": "4"
   },
   "inputWidgetPreferences": null,
   "language": "python",
   "notebookMetadata": {
    "pythonIndentUnit": 4
   },
   "notebookName": "00-copy-csv-file-to-volume",
   "widgets": {
    "catalog_use": {
     "currentValue": "main",
     "nuid": "5d2788a5-b1d2-4530-a2c8-8bfa2f75c612",
     "typedWidgetInfo": {
      "autoCreated": false,
      "defaultValue": "main",
      "label": "Catalog",
      "name": "catalog_use",
      "options": {
       "widgetDisplayType": "Text",
       "validationRegex": null
      },
      "parameterDataType": "String"
     },
     "widgetInfo": {
      "widgetType": "text",
      "defaultValue": "main",
      "label": "Catalog",
      "name": "catalog_use",
      "options": {
       "widgetType": "text",
       "autoCreated": null,
       "validationRegex": null
      }
     }
    },
    "schema_use": {
     "currentValue": "dev_matthew_giglia_ames_housing",
     "nuid": "e311c787-84bf-40c4-a9d2-37fc4db051b8",
     "typedWidgetInfo": {
      "autoCreated": false,
      "defaultValue": "default",
      "label": "Schema",
      "name": "schema_use",
      "options": {
       "widgetDisplayType": "Text",
       "validationRegex": null
      },
      "parameterDataType": "String"
     },
     "widgetInfo": {
      "widgetType": "text",
      "defaultValue": "default",
      "label": "Schema",
      "name": "schema_use",
      "options": {
       "widgetType": "text",
       "autoCreated": null,
       "validationRegex": null
      }
     }
    },
    "volume_path_use": {
     "currentValue": "/Volumes/main/dev_matthew_giglia_ames_housing/landing",
     "nuid": "ad777bcf-97ea-4240-8fcc-8617d564113c",
     "typedWidgetInfo": {
      "autoCreated": false,
      "defaultValue": "/Volumes/main/default/landing",
      "label": "Volume Path",
      "name": "volume_path_use",
      "options": {
       "widgetDisplayType": "Text",
       "validationRegex": null
      },
      "parameterDataType": "String"
     },
     "widgetInfo": {
      "widgetType": "text",
      "defaultValue": "/Volumes/main/default/landing",
      "label": "Volume Path",
      "name": "volume_path_use",
      "options": {
       "widgetType": "text",
       "autoCreated": null,
       "validationRegex": null
      }
     }
    }
   }
  },
  "language_info": {
   "name": "python"
  }
 },
 "nbformat": 4,
 "nbformat_minor": 0
}
